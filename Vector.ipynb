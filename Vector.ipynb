{
  "nbformat": 4,
  "nbformat_minor": 0,
  "metadata": {
    "colab": {
      "provenance": [],
      "authorship_tag": "ABX9TyO/To14DJ53pew8/pxsxe+c",
      "include_colab_link": true
    },
    "kernelspec": {
      "name": "python3",
      "display_name": "Python 3"
    },
    "language_info": {
      "name": "python"
    }
  },
  "cells": [
    {
      "cell_type": "markdown",
      "metadata": {
        "id": "view-in-github",
        "colab_type": "text"
      },
      "source": [
        "<a href=\"https://colab.research.google.com/github/Aman05gupta/Vector/blob/main/Vector.ipynb\" target=\"_parent\"><img src=\"https://colab.research.google.com/assets/colab-badge.svg\" alt=\"Open In Colab\"/></a>"
      ]
    },
    {
      "cell_type": "code",
      "execution_count": null,
      "metadata": {
        "id": "-SdAi503AR_O"
      },
      "outputs": [],
      "source": []
    },
    {
      "cell_type": "markdown",
      "source": [
        "## 1. Definition and Basic Properties\n",
        "A vector is an ordered collection of numbers (called components or elements) which can be represented as a point in space.\n",
        "\n",
        "**Notation:**\n",
        "\n",
        "A vector can be denoted as **v** and written in various forms:\n",
        "\n",
        "\n",
        "*   Column vector\n",
        "*   Row vector\n",
        "*   Reshaping Vectors\n",
        "*   Transposing Vectors"
      ],
      "metadata": {
        "id": "h3m8RjiHAlLz"
      }
    },
    {
      "cell_type": "code",
      "source": [
        "import numpy as np"
      ],
      "metadata": {
        "id": "t2Sbj91CBCEG"
      },
      "execution_count": 1,
      "outputs": []
    },
    {
      "cell_type": "code",
      "source": [
        "column_vector = np.array([[1],[2],[3]])\n",
        "\n",
        "row_vector = np.array([1,2,3])\n",
        "\n",
        "print(\"Column Vector:\\n\",column_vector)\n",
        "\n",
        "print(\"Row Vector:\\n\",row_vector)"
      ],
      "metadata": {
        "colab": {
          "base_uri": "https://localhost:8080/",
          "height": 0
        },
        "id": "TXS3iHYqB3bk",
        "outputId": "49772faa-601e-42ab-a998-e04a26165246"
      },
      "execution_count": 5,
      "outputs": [
        {
          "output_type": "stream",
          "name": "stdout",
          "text": [
            "Column Vector:\n",
            " [[1]\n",
            " [2]\n",
            " [3]]\n",
            "Row Vector:\n",
            " [1 2 3]\n"
          ]
        }
      ]
    },
    {
      "cell_type": "markdown",
      "source": [
        "## Reshaping Vectors\n",
        "If you have a one-dimensional array and you want to explicitly convert it to a column or row vector, you can use the reshape method."
      ],
      "metadata": {
        "id": "ZYqcUXuaDSWa"
      }
    },
    {
      "cell_type": "code",
      "source": [
        "# One-dimensional array\n",
        "vector = np.array([1,2,3,])"
      ],
      "metadata": {
        "id": "N1x04sf1CbHU"
      },
      "execution_count": 7,
      "outputs": []
    },
    {
      "cell_type": "code",
      "source": [
        "# Convert to column vector\n",
        "column_vector = vector.reshape(-1,1)\n",
        "print(\"Column Vector:\\n\", column_vector)"
      ],
      "metadata": {
        "colab": {
          "base_uri": "https://localhost:8080/",
          "height": 0
        },
        "id": "yPXDLHgADh51",
        "outputId": "49d0b089-fc2b-49e8-ffc5-642b161aa47f"
      },
      "execution_count": 10,
      "outputs": [
        {
          "output_type": "stream",
          "name": "stdout",
          "text": [
            "Column Vector:\n",
            " [[1]\n",
            " [2]\n",
            " [3]]\n"
          ]
        }
      ]
    },
    {
      "cell_type": "code",
      "source": [
        "# Convert to row vector\n",
        "\n",
        "row_vector = vector.reshape(1,-1)\n",
        "print(\"Row Vector:\\n\",row_vector)"
      ],
      "metadata": {
        "colab": {
          "base_uri": "https://localhost:8080/",
          "height": 0
        },
        "id": "KUa2h9twDrt0",
        "outputId": "c13046db-ef9c-4f43-c485-73e08caf0abf"
      },
      "execution_count": 11,
      "outputs": [
        {
          "output_type": "stream",
          "name": "stdout",
          "text": [
            "Row Vector:\n",
            " [[1 2 3]]\n"
          ]
        }
      ]
    },
    {
      "cell_type": "markdown",
      "source": [
        "### Transposing Vectors\n",
        "You can transpose a row vector to get a column vector and vice versa using the T attribute."
      ],
      "metadata": {
        "id": "7ewyZOOFEmx-"
      }
    },
    {
      "cell_type": "code",
      "source": [
        "# Transposing a row vector to get a column vector\n",
        "row_vector = np.array([[1,2,3]])\n",
        "column_vector_form_row = row_vector.T\n",
        "print(\"Column Vector form Row Vector:\\n\",column_vector_form_row)"
      ],
      "metadata": {
        "colab": {
          "base_uri": "https://localhost:8080/",
          "height": 0
        },
        "id": "klm16uiQDuYF",
        "outputId": "eeea06f7-6ed7-4d71-cff5-7af62c669d55"
      },
      "execution_count": 18,
      "outputs": [
        {
          "output_type": "stream",
          "name": "stdout",
          "text": [
            "Column Vector form Row Vector:\n",
            " [[1]\n",
            " [2]\n",
            " [3]]\n"
          ]
        }
      ]
    },
    {
      "cell_type": "code",
      "source": [
        "# Transposing a column vector to get a row vector\n",
        "column_vector = np.array([[1],[2],[3]])\n",
        "row_vector_form_column = column_vector.T\n",
        "print(\"Row Vector form Column Vector:\\n\", row_vector_form_column)"
      ],
      "metadata": {
        "colab": {
          "base_uri": "https://localhost:8080/",
          "height": 0
        },
        "id": "Uw5Re9VrEv5N",
        "outputId": "2a0afaaf-e77f-47e6-b42d-b0452af40776"
      },
      "execution_count": 19,
      "outputs": [
        {
          "output_type": "stream",
          "name": "stdout",
          "text": [
            "Row Vector form Column Vector:\n",
            " [[1 2 3]]\n"
          ]
        }
      ]
    },
    {
      "cell_type": "markdown",
      "source": [
        "# 2. Types of Vectors\n",
        "**Zero Vector :** A zero vector is a vector where all components are zero.\n",
        "\n",
        "**Unit Vector :** A unit vector is a vector with a magnitude of 1.  \n",
        "\n",
        "**Basis Vectors :** Basis vectors are standard unit vectors along the axes of a coordinate system. In 3D space.\n",
        "\n"
      ],
      "metadata": {
        "id": "DIULhYzvIQWV"
      }
    },
    {
      "cell_type": "code",
      "source": [
        "# Creating a zero vector of size 3 (example for 3-dimensional space)\n",
        "zero_vector = np.zeros(3)\n",
        "print(\"Zero Vector\\n\", zero_vector)"
      ],
      "metadata": {
        "colab": {
          "base_uri": "https://localhost:8080/",
          "height": 0
        },
        "id": "dhGjYOKDGLAz",
        "outputId": "abba0543-c0fb-4fa9-caf7-b22532e4095f"
      },
      "execution_count": 20,
      "outputs": [
        {
          "output_type": "stream",
          "name": "stdout",
          "text": [
            "Zero Vector\n",
            " [0. 0. 0.]\n"
          ]
        }
      ]
    },
    {
      "cell_type": "code",
      "source": [
        "# Creating a unit vector along the x-axis in 3D space\n",
        "unit_vector_x = np.array([1,0,0])\n",
        "print(\"Unit Vector\\n\", unit_vector_x)"
      ],
      "metadata": {
        "colab": {
          "base_uri": "https://localhost:8080/",
          "height": 0
        },
        "id": "DnctJ9ArJqFO",
        "outputId": "81835ddc-5b9d-47fd-eac8-f9dac2550fef"
      },
      "execution_count": 22,
      "outputs": [
        {
          "output_type": "stream",
          "name": "stdout",
          "text": [
            "Unit Vector\n",
            " [1 0 0]\n"
          ]
        }
      ]
    },
    {
      "cell_type": "code",
      "source": [
        "# Creating basis vectors in 3D space\n",
        "e1 = np.array([1,0,0])\n",
        "e2 = np.array([0,1,0])\n",
        "e3 = np.array([0,0,1])\n",
        "\n",
        "print(e1)\n",
        "print(e2)\n",
        "print(e3)"
      ],
      "metadata": {
        "colab": {
          "base_uri": "https://localhost:8080/",
          "height": 0
        },
        "id": "cw4xMgzEKyHM",
        "outputId": "4b944561-c75e-4af0-87f2-4008d9997a69"
      },
      "execution_count": 26,
      "outputs": [
        {
          "output_type": "stream",
          "name": "stdout",
          "text": [
            "[1 0 0]\n",
            "[0 1 0]\n",
            "[0 0 1]\n"
          ]
        }
      ]
    },
    {
      "cell_type": "code",
      "source": [
        "# Creating basis vectors in 3D space\n",
        "basis_vectors = np.array([[1,0,0],[0,1,0],[0,0,1]])\n",
        "print(\"Basis Vecrtor:\\n\",basis_vectors)\n"
      ],
      "metadata": {
        "colab": {
          "base_uri": "https://localhost:8080/",
          "height": 0
        },
        "id": "U6iqXe_bKHFu",
        "outputId": "b6789957-f928-45b2-cff9-2eab2c70150d"
      },
      "execution_count": 23,
      "outputs": [
        {
          "output_type": "stream",
          "name": "stdout",
          "text": [
            "Basis Vecrtor:\n",
            " [[1 0 0]\n",
            " [0 1 0]\n",
            " [0 0 1]]\n"
          ]
        }
      ]
    },
    {
      "cell_type": "code",
      "source": [
        "# Creating basis Vectors in 2D Sapace\n",
        "b1 = np.array([1,0])\n",
        "b2 = np.array([0,1])\n",
        "\n",
        "print(\"Basis Vectors in 2D Space:\\n\", b1,b2)"
      ],
      "metadata": {
        "colab": {
          "base_uri": "https://localhost:8080/",
          "height": 0
        },
        "id": "3XVyztw4KxWX",
        "outputId": "f5152ce0-8171-4cfc-a248-03dfb36f10e6"
      },
      "execution_count": 29,
      "outputs": [
        {
          "output_type": "stream",
          "name": "stdout",
          "text": [
            "Basis Vectors in 2D Space:\n",
            " [1 0] [0 1]\n"
          ]
        }
      ]
    },
    {
      "cell_type": "code",
      "source": [
        "print(b1)\n",
        "print(b2)"
      ],
      "metadata": {
        "colab": {
          "base_uri": "https://localhost:8080/",
          "height": 0
        },
        "id": "mh4MUvg2Kun-",
        "outputId": "95401961-03a7-438e-f997-8c3751606030"
      },
      "execution_count": 30,
      "outputs": [
        {
          "output_type": "stream",
          "name": "stdout",
          "text": [
            "[1 0]\n",
            "[0 1]\n"
          ]
        }
      ]
    },
    {
      "cell_type": "code",
      "source": [],
      "metadata": {
        "id": "PlxD0JW7MIDp"
      },
      "execution_count": null,
      "outputs": []
    },
    {
      "cell_type": "markdown",
      "source": [
        "# Geometric Vectors\n",
        "**Position Vector**\n",
        "A position vector specifies the position of a point relative to a reference point or origin.\n",
        "\n",
        "**Displacement Vector**\n",
        "A displacement vector represents the change in position from one point to another.\n",
        "\n"
      ],
      "metadata": {
        "id": "0QevMkRRNKHY"
      }
    },
    {
      "cell_type": "code",
      "source": [
        "# Position vector in 3D space\n",
        "\n",
        "position_vector = np.array([2, 3, 5])\n",
        "print(\"Position Vector:\", position_vector)\n"
      ],
      "metadata": {
        "colab": {
          "base_uri": "https://localhost:8080/",
          "height": 0
        },
        "id": "98JT2PR_NM_V",
        "outputId": "beb8aa57-400b-46a5-fa15-1bc0b6d60e98"
      },
      "execution_count": 31,
      "outputs": [
        {
          "output_type": "stream",
          "name": "stdout",
          "text": [
            "Position Vector: [2 3 5]\n"
          ]
        }
      ]
    },
    {
      "cell_type": "code",
      "source": [
        "# Displacement vector from point A to point B\n",
        "\n",
        "point_A = np.array([1, 2, 3])\n",
        "point_B = np.array([4, 5, 6])\n",
        "\n",
        "displacement_vector = point_B - point_A\n",
        "print(\"Displacement Vector:\", displacement_vector)\n"
      ],
      "metadata": {
        "colab": {
          "base_uri": "https://localhost:8080/",
          "height": 0
        },
        "id": "Cl7xjIt7Neca",
        "outputId": "12de5de4-e0cd-4f66-8526-3d3a1e0ec677"
      },
      "execution_count": 32,
      "outputs": [
        {
          "output_type": "stream",
          "name": "stdout",
          "text": [
            "Displacement Vector: [3 3 3]\n"
          ]
        }
      ]
    },
    {
      "cell_type": "markdown",
      "source": [
        "# Algebraic Vectors\n",
        "**Row Vector**\n",
        "A row vector is represented horizontally and is useful in matrix operations.\n",
        "\n",
        "**Column Vector**\n",
        "A column vector is represented vertically and is essential in linear transformations and solving systems of equations."
      ],
      "metadata": {
        "id": "BmVgjqutNr8G"
      }
    },
    {
      "cell_type": "code",
      "source": [
        "# Row vector\n",
        "row_vector = np.array([[1, 2, 3]])\n",
        "print(\"Row Vector:\", row_vector)\n"
      ],
      "metadata": {
        "colab": {
          "base_uri": "https://localhost:8080/",
          "height": 0
        },
        "id": "G-gCGuT3NimE",
        "outputId": "bc1a4531-adf2-4b4b-e035-301f53743a52"
      },
      "execution_count": 33,
      "outputs": [
        {
          "output_type": "stream",
          "name": "stdout",
          "text": [
            "Row Vector: [[1 2 3]]\n"
          ]
        }
      ]
    },
    {
      "cell_type": "code",
      "source": [
        "# Column vector\n",
        "column_vector = np.array([[1], [2], [3]])\n",
        "print(\"Column Vector:\\n\", column_vector)\n"
      ],
      "metadata": {
        "colab": {
          "base_uri": "https://localhost:8080/",
          "height": 0
        },
        "id": "eLl3sWIUN7WK",
        "outputId": "f48d4948-501a-4fa7-d16f-7caa375a5904"
      },
      "execution_count": 34,
      "outputs": [
        {
          "output_type": "stream",
          "name": "stdout",
          "text": [
            "Column Vector:\n",
            " [[1]\n",
            " [2]\n",
            " [3]]\n"
          ]
        }
      ]
    },
    {
      "cell_type": "markdown",
      "source": [
        "# Free Vectors\n",
        "A free vector can move freely in space without changing its magnitude or direction."
      ],
      "metadata": {
        "id": "QAYfloHdOGgo"
      }
    },
    {
      "cell_type": "code",
      "source": [
        "# Free vector example\n",
        "\n",
        "vector1 = np.array([3, 4])\n",
        "vector2 = np.array([-1, 2])\n",
        "\n",
        "print(\"Vector 1:\", vector1)\n",
        "print(\"Vector 2:\", vector2)\n"
      ],
      "metadata": {
        "colab": {
          "base_uri": "https://localhost:8080/",
          "height": 0
        },
        "id": "BrKDqbf5N9Tm",
        "outputId": "eda12c54-cdf5-4a6c-fcb2-86971749cd2c"
      },
      "execution_count": 35,
      "outputs": [
        {
          "output_type": "stream",
          "name": "stdout",
          "text": [
            "Vector 1: [3 4]\n",
            "Vector 2: [-1  2]\n"
          ]
        }
      ]
    },
    {
      "cell_type": "markdown",
      "source": [
        "# Bound Vectors\n",
        "\n",
        "A bound vector is associated with a specific point or origin in space."
      ],
      "metadata": {
        "id": "BNomn8ujOWSr"
      }
    },
    {
      "cell_type": "code",
      "source": [
        "# Bound vector example\n",
        "\n",
        "origin = np.array([0, 0])\n",
        "endpoint = np.array([3, 4])\n",
        "\n",
        "bound_vector = endpoint - origin\n",
        "print(\"Bound Vector:\", bound_vector)\n"
      ],
      "metadata": {
        "colab": {
          "base_uri": "https://localhost:8080/",
          "height": 0
        },
        "id": "gpdBgTZCOTXZ",
        "outputId": "286e2033-0dac-44ba-ee83-ecb2a1e26e4f"
      },
      "execution_count": 36,
      "outputs": [
        {
          "output_type": "stream",
          "name": "stdout",
          "text": [
            "Bound Vector: [3 4]\n"
          ]
        }
      ]
    },
    {
      "cell_type": "markdown",
      "source": [
        "# Position Vectors\n",
        "\n",
        "**Position Vector** (again, for clarity)\n",
        "Position vectors are used to define the position of a point relative to a reference point or origin."
      ],
      "metadata": {
        "id": "e6UYGQqGOn81"
      }
    },
    {
      "cell_type": "code",
      "source": [
        "# Another example of a position vector\n",
        "\n",
        "position_vector2 = np.array([-1, 2, 5])\n",
        "print(\"Position Vector 2:\", position_vector2)\n"
      ],
      "metadata": {
        "colab": {
          "base_uri": "https://localhost:8080/",
          "height": 0
        },
        "id": "6sfv6aQzObYp",
        "outputId": "65db484a-c44b-4565-a2cd-866848ff5675"
      },
      "execution_count": 37,
      "outputs": [
        {
          "output_type": "stream",
          "name": "stdout",
          "text": [
            "Position Vector 2: [-1  2  5]\n"
          ]
        }
      ]
    },
    {
      "cell_type": "markdown",
      "source": [
        "# Vector Operations\n",
        "\n",
        "*   Vector Addition\n",
        "*   Vector Subtraction\n",
        "*   Scalar Multiplication\n",
        "*   Dot Product (Inner Product)\n",
        "*   Cross Product (only applicable in 3D)\n",
        "*   Vector Magnitude (Norm)\n",
        "*   Vector Projection\n",
        "*   Calculating Orthogonality and Angle Between Vectors\n",
        "\n",
        "\n",
        "\n",
        "\n",
        "\n",
        "\n",
        "\n",
        "\n",
        "\n",
        "\n"
      ],
      "metadata": {
        "id": "7Ocxa-WYPbBK"
      }
    },
    {
      "cell_type": "code",
      "source": [
        "\n",
        "# Define two vectors\n",
        "vector1 = np.array([1, 2, 3])\n",
        "vector2 = np.array([4, 5, 6])\n",
        "\n",
        "# Vector addition\n",
        "vector_sum = vector1 + vector2\n",
        "print(\"Vector Sum:\", vector_sum)\n"
      ],
      "metadata": {
        "colab": {
          "base_uri": "https://localhost:8080/",
          "height": 0
        },
        "id": "FVqPpOPbO17o",
        "outputId": "a2416e2d-05bc-4518-a7ae-92bd6043b0ec"
      },
      "execution_count": 38,
      "outputs": [
        {
          "output_type": "stream",
          "name": "stdout",
          "text": [
            "Vector Sum: [5 7 9]\n"
          ]
        }
      ]
    },
    {
      "cell_type": "code",
      "source": [
        "# Vector subtraction\n",
        "vector_diff = vector2 - vector1\n",
        "print(\"Vector Difference:\", vector_diff)\n"
      ],
      "metadata": {
        "colab": {
          "base_uri": "https://localhost:8080/",
          "height": 0
        },
        "id": "7h5Sf5axQSXv",
        "outputId": "a4186914-d4d4-4621-f03c-dd614960b9b7"
      },
      "execution_count": 39,
      "outputs": [
        {
          "output_type": "stream",
          "name": "stdout",
          "text": [
            "Vector Difference: [3 3 3]\n"
          ]
        }
      ]
    },
    {
      "cell_type": "code",
      "source": [
        "# Scalar multiplication\n",
        "scalar = 2\n",
        "scaled_vector = scalar * vector1\n",
        "print(\"Scaled Vector:\", scaled_vector)\n"
      ],
      "metadata": {
        "colab": {
          "base_uri": "https://localhost:8080/",
          "height": 0
        },
        "id": "N7PowpCbQXSU",
        "outputId": "058a0bc5-5d48-4858-f559-ab55f1c5b9ba"
      },
      "execution_count": 40,
      "outputs": [
        {
          "output_type": "stream",
          "name": "stdout",
          "text": [
            "Scaled Vector: [2 4 6]\n"
          ]
        }
      ]
    },
    {
      "cell_type": "code",
      "source": [
        "# Dot product\n",
        "dot_product = np.dot(vector1, vector2)\n",
        "print(\"Dot Product:\", dot_product)\n"
      ],
      "metadata": {
        "colab": {
          "base_uri": "https://localhost:8080/",
          "height": 0
        },
        "id": "o49noVQOQacO",
        "outputId": "babc4be4-9fe7-463f-f8b5-33d23a6e236e"
      },
      "execution_count": 41,
      "outputs": [
        {
          "output_type": "stream",
          "name": "stdout",
          "text": [
            "Dot Product: 32\n"
          ]
        }
      ]
    },
    {
      "cell_type": "code",
      "source": [
        "# Define two 3D vectors\n",
        "vector3 = np.array([1, 0, 0])\n",
        "vector4 = np.array([0, 1, 0])\n",
        "\n",
        "# Cross product\n",
        "cross_product = np.cross(vector3, vector4)\n",
        "print(\"Cross Product:\", cross_product)\n"
      ],
      "metadata": {
        "colab": {
          "base_uri": "https://localhost:8080/",
          "height": 0
        },
        "id": "eSl17REYQdLS",
        "outputId": "e1198740-4b12-4c23-a400-ed5812a6b084"
      },
      "execution_count": 42,
      "outputs": [
        {
          "output_type": "stream",
          "name": "stdout",
          "text": [
            "Cross Product: [0 0 1]\n"
          ]
        }
      ]
    },
    {
      "cell_type": "code",
      "source": [
        "# Vector magnitude (norm)\n",
        "magnitude_vector1 = np.linalg.norm(vector1)\n",
        "print(\"Magnitude of Vector 1:\", magnitude_vector1)\n"
      ],
      "metadata": {
        "colab": {
          "base_uri": "https://localhost:8080/",
          "height": 0
        },
        "id": "uRlread6QkCg",
        "outputId": "caae7cee-825f-48ce-9a68-b45d00f05918"
      },
      "execution_count": 43,
      "outputs": [
        {
          "output_type": "stream",
          "name": "stdout",
          "text": [
            "Magnitude of Vector 1: 3.7416573867739413\n"
          ]
        }
      ]
    },
    {
      "cell_type": "code",
      "source": [
        "# Define two vectors\n",
        "vector_a = np.array([3, 4])\n",
        "vector_b = np.array([1, 1])\n",
        "\n",
        "# Vector projection of vector_a onto vector_b\n",
        "proj_vector_a_on_b = np.dot(vector_a, vector_b) / np.linalg.norm(vector_b) * vector_b\n",
        "print(\"Vector Projection of vector_a onto vector_b:\", proj_vector_a_on_b)\n"
      ],
      "metadata": {
        "colab": {
          "base_uri": "https://localhost:8080/",
          "height": 0
        },
        "id": "cbL7asUAQpZ_",
        "outputId": "b72196e0-bcde-4157-aa8c-e4ef002c203e"
      },
      "execution_count": 44,
      "outputs": [
        {
          "output_type": "stream",
          "name": "stdout",
          "text": [
            "Vector Projection of vector_a onto vector_b: [4.94974747 4.94974747]\n"
          ]
        }
      ]
    },
    {
      "cell_type": "code",
      "source": [
        "\n",
        "# Define two vectors\n",
        "v = np.array([1, 0, 0])\n",
        "w = np.array([0, 1, 0])\n",
        "\n",
        "# Calculate dot product\n",
        "dot_product = np.dot(v, w)\n",
        "\n",
        "# Check orthogonality\n",
        "if dot_product == 0:\n",
        "    print(\"Vectors v and w are orthogonal.\")\n",
        "else:\n",
        "    print(\"Vectors v and w are not orthogonal.\")\n",
        "\n",
        "# Calculate angle between vectors\n",
        "magnitude_v = np.linalg.norm(v)\n",
        "magnitude_w = np.linalg.norm(w)\n",
        "cos_theta = dot_product / (magnitude_v * magnitude_w)\n",
        "angle_degrees = np.arccos(cos_theta) * 180 / np.pi\n",
        "\n",
        "print(\"Angle between vectors v and w (degrees):\", angle_degrees)\n"
      ],
      "metadata": {
        "colab": {
          "base_uri": "https://localhost:8080/",
          "height": 0
        },
        "id": "aw_wZPf6Q102",
        "outputId": "a44028ee-bf91-43ab-d4b6-4a8c407c2f4c"
      },
      "execution_count": 45,
      "outputs": [
        {
          "output_type": "stream",
          "name": "stdout",
          "text": [
            "Vectors v and w are orthogonal.\n",
            "Angle between vectors v and w (degrees): 90.0\n"
          ]
        }
      ]
    },
    {
      "cell_type": "code",
      "source": [],
      "metadata": {
        "id": "XKsr1EnhSGCC"
      },
      "execution_count": null,
      "outputs": []
    }
  ]
}